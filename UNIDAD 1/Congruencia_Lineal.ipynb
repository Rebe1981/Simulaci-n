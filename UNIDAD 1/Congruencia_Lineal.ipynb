{
  "nbformat": 4,
  "nbformat_minor": 0,
  "metadata": {
    "colab": {
      "provenance": []
    },
    "kernelspec": {
      "name": "python3",
      "display_name": "Python 3"
    },
    "language_info": {
      "name": "python"
    }
  },
  "cells": [
    {
      "cell_type": "markdown",
      "source": [
        "Rebeca Durán Rodríguez\n",
        "100 números aleatorios con el método de Congruencia Lineal"
      ],
      "metadata": {
        "id": "s3YE1gkHSuwS"
      }
    },
    {
      "cell_type": "code",
      "execution_count": 14,
      "metadata": {
        "id": "S_aFUrf-SpYq"
      },
      "outputs": [],
      "source": [
        "def generador_congruencial_lineal(semilla, a, c, m):\n",
        "  numeros_aleatorios = []\n",
        "  x = semilla\n",
        "  for _ in range(100):\n",
        "    x = (a * x + c) % m\n",
        "    numeros_aleatorios.append(x)\n",
        "  return numeros_aleatorios"
      ]
    },
    {
      "cell_type": "code",
      "source": [
        "semilla = 98765\n",
        "a = 7\n",
        "c = 4\n",
        "m = 28\n",
        "numeros_aleatorios = generador_congruencial_lineal(semilla, a, c, m)"
      ],
      "metadata": {
        "id": "Vsi_ntXTUONq"
      },
      "execution_count": 15,
      "outputs": []
    },
    {
      "cell_type": "code",
      "source": [
        "print(\"Números aleatorios generados con el método de Congruencia Lineal:\")\n",
        "print(numeros_aleatorios)"
      ],
      "metadata": {
        "colab": {
          "base_uri": "https://localhost:8080/"
        },
        "id": "bVB-XGskUbi3",
        "outputId": "a144a40b-3aea-4853-ee33-1dc22a57a78f"
      },
      "execution_count": 16,
      "outputs": [
        {
          "output_type": "stream",
          "name": "stdout",
          "text": [
            "Números aleatorios generados con el método de Congruencia Lineal:\n",
            "[11, 25, 11, 25, 11, 25, 11, 25, 11, 25, 11, 25, 11, 25, 11, 25, 11, 25, 11, 25, 11, 25, 11, 25, 11, 25, 11, 25, 11, 25, 11, 25, 11, 25, 11, 25, 11, 25, 11, 25, 11, 25, 11, 25, 11, 25, 11, 25, 11, 25, 11, 25, 11, 25, 11, 25, 11, 25, 11, 25, 11, 25, 11, 25, 11, 25, 11, 25, 11, 25, 11, 25, 11, 25, 11, 25, 11, 25, 11, 25, 11, 25, 11, 25, 11, 25, 11, 25, 11, 25, 11, 25, 11, 25, 11, 25, 11, 25, 11, 25]\n"
          ]
        }
      ]
    }
  ]
}