{
  "nbformat": 4,
  "nbformat_minor": 0,
  "metadata": {
    "colab": {
      "provenance": []
    },
    "kernelspec": {
      "name": "python3",
      "display_name": "Python 3"
    },
    "language_info": {
      "name": "python"
    }
  },
  "cells": [
    {
      "cell_type": "markdown",
      "source": [
        "Rebeca Durán Rodríguez Pruebas estadística de uniformidad de Kolmogorov-Smirnov"
      ],
      "metadata": {
        "id": "Su039lXy0lld"
      }
    },
    {
      "cell_type": "code",
      "execution_count": 1,
      "metadata": {
        "colab": {
          "base_uri": "https://localhost:8080/"
        },
        "id": "hycrtJFjk5yl",
        "outputId": "6adb8c71-227d-43fb-931b-761d3978ecd9"
      },
      "outputs": [
        {
          "output_type": "stream",
          "name": "stdout",
          "text": [
            "Estadístico D de Kolmogorov-Smirnov: 0.0632107125773361\n",
            "Valor p: 0.7953464005566793\n",
            "No se puede rechazar la hipótesis nula: Los datos parecen seguir una distribución uniforme.\n"
          ]
        }
      ],
      "source": [
        "import numpy as np\n",
        "import scipy.stats as stats\n",
        "\n",
        "# Generar 100 números aleatorios entre 0 y 1\n",
        "n = 100\n",
        "random_numbers = np.random.uniform(0, 1, n)\n",
        "\n",
        "# Realizar la prueba de Kolmogorov-Smirnov\n",
        "D, p_value = stats.kstest(random_numbers, 'uniform')\n",
        "\n",
        "# Imprimir los resultados\n",
        "print(f\"Estadístico D de Kolmogorov-Smirnov: {D}\")\n",
        "print(f\"Valor p: {p_value}\")\n",
        "\n",
        "# Evaluar si los datos provienen de una distribución uniforme\n",
        "alpha = 0.05\n",
        "if p_value > alpha:\n",
        "    print(\"No se puede rechazar la hipótesis nula: Los datos parecen seguir una distribución uniforme.\")\n",
        "else:\n",
        "    print(\"Se rechaza la hipótesis nula: Los datos no siguen una distribución uniforme.\")\n"
      ]
    }
  ]
}